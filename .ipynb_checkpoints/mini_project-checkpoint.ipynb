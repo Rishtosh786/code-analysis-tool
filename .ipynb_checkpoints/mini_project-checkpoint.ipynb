{
 "cells": [
  {
   "cell_type": "markdown",
   "id": "84157cf9-1cd2-4bfa-9b0e-51ad82f1c22f",
   "metadata": {},
   "source": [
    "# Preparation"
   ]
  },
  {
   "cell_type": "code",
   "execution_count": null,
   "id": "16f83331-1555-4032-91e2-6e4c0e6d747a",
   "metadata": {},
   "outputs": [],
   "source": [
    "#!pip install nni\n",
    "#!pip install pytorch\n",
    "#!pip install matplotlib"
   ]
  },
  {
   "cell_type": "code",
   "execution_count": null,
   "id": "58d4cd96-5e95-4e0a-928f-aaa68cd7cda5",
   "metadata": {},
   "outputs": [],
   "source": [
    "import torch\n",
    "import torch.nn.functional as F\n",
    "from torch.optim import SGD\n",
    "\n",
    "from nni_assets.compression.mnist_model import TorchModel, trainer, evaluator, device\n",
    "\n",
    "# define the model\n",
    "model = TorchModel().to(device)\n",
    "\n",
    "# show the model structure, note that pruner will wrap the model layer.\n",
    "print(model)\n"
   ]
  },
  {
   "cell_type": "markdown",
   "id": "56cfdebe-b8b8-4147-8782-77ea063a0e9b",
   "metadata": {},
   "source": [
    "# Define the model"
   ]
  },
  {
   "cell_type": "markdown",
   "id": "6fb28c0f-cec0-4397-a068-0f4805130174",
   "metadata": {},
   "source": [
    "## Define the optimizer and pretrained"
   ]
  },
  {
   "cell_type": "code",
   "execution_count": null,
   "id": "a8721e00-3ef2-47b6-90ca-7d3a69f79134",
   "metadata": {},
   "outputs": [],
   "source": [
    "#Define the optimizer and criterion for pretraining\n",
    "optimizer = SGD(model.parameters(), lr=0.01)\n",
    "criterion = F.nll_loss\n",
    "\n",
    "#pre-train and evaluate the model on MNIST dataset\n",
    "for epoch in range(3):\n",
    "    trainer(model,optimizer,criterion)\n",
    "    evaluator(model)"
   ]
  },
  {
   "cell_type": "markdown",
   "id": "16cfd893-e885-4b72-bd1f-390d21b9da44",
   "metadata": {},
   "source": [
    "### set up config list"
   ]
  },
  {
   "cell_type": "code",
   "execution_count": null,
   "id": "07f67641-713e-476b-ad23-677e87d8a020",
   "metadata": {},
   "outputs": [],
   "source": [
    "config_list = [{\n",
    "    'op_types': ['Linear', 'Conv2d'],\n",
    "    'exclude_op_names': ['fc3'],\n",
    "    'sparse_ratio': 0.5\n",
    "}]"
   ]
  },
  {
   "cell_type": "markdown",
   "id": "aa987357-d68b-454c-b673-b17bb549bc22",
   "metadata": {},
   "source": [
    "### Initialize the pruner"
   ]
  },
  {
   "cell_type": "code",
   "execution_count": null,
   "id": "07479b8b-3410-43ea-a398-5fd6b92124da",
   "metadata": {
    "scrolled": true
   },
   "outputs": [],
   "source": [
    "from nni.compression.pruning import L1NormPruner\n",
    "pruner = L1NormPruner(model, config_list)\n",
    "\n",
    "#show the wrapped model structure, PrunerModuleWrapper have wrapped the layers that confgured in the config_list.\n",
    "print(model)"
   ]
  },
  {
   "cell_type": "markdown",
   "id": "ce30e6b8-a0b5-4c79-bce8-4684947eae17",
   "metadata": {},
   "source": [
    "### Generate masks and simulate compression"
   ]
  },
  {
   "cell_type": "code",
   "execution_count": null,
   "id": "099e9ebe-9298-498b-b847-9b11dc3f1738",
   "metadata": {},
   "outputs": [],
   "source": [
    "# compress the model and generate the masks\n",
    "_, masks = pruner.compress()\n",
    "# show the masks sparsity\n",
    "for name, mask in masks.items():\n",
    "    print(name, ' sparsity : ', '{:.2}'.format(mask['weight'].sum() / mask['weight'].numel()))"
   ]
  },
  {
   "cell_type": "markdown",
   "id": "fc44ffc0-edce-4847-adbf-8a797fc6415f",
   "metadata": {},
   "source": [
    "### Model speedup"
   ]
  },
  {
   "cell_type": "code",
   "execution_count": null,
   "id": "ca431493-7bda-4ca1-b591-4497ceb06f0e",
   "metadata": {},
   "outputs": [],
   "source": [
    "# need to unwrap the model, if the model is wrapped before speedup\n",
    "pruner.unwrap_model()\n",
    "\n",
    "# speedup the model, for more information about speedup, please refer :doc:`pruning_speedup`.\n",
    "from nni.compression.speedup import ModelSpeedup\n",
    "\n",
    "ModelSpeedup(model, torch.rand(3, 1, 28, 28).to(device), masks).speedup_model()"
   ]
  },
  {
   "cell_type": "code",
   "execution_count": null,
   "id": "13e82c1a-924e-4a9a-8807-9bf4ba433e0f",
   "metadata": {},
   "outputs": [],
   "source": [
    "print(model)"
   ]
  },
  {
   "cell_type": "code",
   "execution_count": null,
   "id": "47687c78-3e73-4210-a713-4433e22a3f30",
   "metadata": {},
   "outputs": [],
   "source": []
  }
 ],
 "metadata": {
  "kernelspec": {
   "display_name": "Python 3 (ipykernel)",
   "language": "python",
   "name": "python3"
  },
  "language_info": {
   "codemirror_mode": {
    "name": "ipython",
    "version": 3
   },
   "file_extension": ".py",
   "mimetype": "text/x-python",
   "name": "python",
   "nbconvert_exporter": "python",
   "pygments_lexer": "ipython3",
   "version": "3.9.1"
  }
 },
 "nbformat": 4,
 "nbformat_minor": 5
}
